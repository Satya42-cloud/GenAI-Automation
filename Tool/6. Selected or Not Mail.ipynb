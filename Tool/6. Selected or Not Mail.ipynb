{
 "cells": [
  {
   "cell_type": "code",
   "execution_count": 0,
   "metadata": {
    "application/vnd.databricks.v1+cell": {
     "cellMetadata": {
      "byteLimit": 2048000,
      "rowLimit": 10000
     },
     "inputWidgets": {},
     "nuid": "8443b00c-0955-42cb-a0ff-b354180b7b97",
     "showTitle": false,
     "tableResultSettingsMap": {},
     "title": ""
    }
   },
   "outputs": [],
   "source": [
    "%run ./0.Config"
   ]
  },
  {
   "cell_type": "code",
   "execution_count": 0,
   "metadata": {
    "application/vnd.databricks.v1+cell": {
     "cellMetadata": {
      "byteLimit": 2048000,
      "rowLimit": 10000
     },
     "inputWidgets": {},
     "nuid": "cd66897a-e603-44a2-b3ee-05293482d52a",
     "showTitle": false,
     "tableResultSettingsMap": {},
     "title": ""
    }
   },
   "outputs": [],
   "source": [
    "def send_vendor_emails_func(_: str) -> str:\n",
    "    \"\"\"\n",
    "    Sends customized emails to shortlisted and non-selected vendors\n",
    "    based on their RFQ evaluation status. Pulls data from Delta Lake,\n",
    "    generates personalized messages with a Databricks LLM, and sends emails via SMTP.\n",
    "    \"\"\"\n",
    "    shortlisted_vendors = spark.read.option(\"header\", \"true\").csv(\n",
    "        \"abfss://vendor-rfq@genaiautomationsa.dfs.core.windows.net/processed/Shortlisted_vendors\")\n",
    "    vendors_data = spark.read.option(\"header\", \"true\").csv(\n",
    "        \"abfss://vendor-rfq@genaiautomationsa.dfs.core.windows.net/vendor_data/vendor_data.csv\")\n",
    "\n",
    "    shortlisted_vendors_df = shortlisted_vendors.toPandas()\n",
    "    vendors_data_df = vendors_data.toPandas()\n",
    "\n",
    "    shortlisted_emails = shortlisted_vendors_df[\"Vendor Email\"].tolist()\n",
    "    non_selected_vendors_df = vendors_data_df[~vendors_data_df[\"Vendor Email\"].isin(shortlisted_emails)]\n",
    "\n",
    "    llm = ChatDatabricks(endpoint=\"databricks-llama-4-maverick\")\n",
    "\n",
    "    email_prompt = \"\"\"\n",
    "    You are a professional Procurement Manager replying to a vendor about their RFQ submission.\n",
    "    Vendor Name: {vendor_name}\n",
    "    Status: {status}\n",
    "    Routes: {routes}\n",
    "\n",
    "    If Shortlisted:\n",
    "    - Congratulate the vendor.\n",
    "    - Inform them they are partially selected for the procurement program.\n",
    "    - Let them know our procurement manager will contact them soon.\n",
    "\n",
    "    If Not Selected:\n",
    "    - Thank them for their submission.\n",
    "    - Politely inform them they weren’t selected due to pricing or other criteria.\n",
    "    - Encourage them to participate in future RFQs.\n",
    "\n",
    "    Sign off with:\n",
    "    Best regards,  \n",
    "    Coca Cola Pvt Ltd  \n",
    "    procurement@cocacola.com\n",
    "    \"\"\"\n",
    "\n",
    "    grouped = shortlisted_vendors_df.groupby(\"Vendor Email\").agg({\n",
    "        \"Vendor Name\": \"first\",\n",
    "        \"Route ID\": lambda x: ', '.join(sorted(set(x)))\n",
    "    }).reset_index()\n",
    "\n",
    "    yag = yagmail.SMTP(EMAIL_USER, EMAIL_PASSWORD)\n",
    "\n",
    "    for _, vendor in grouped.iterrows():\n",
    "        content = llm.invoke(email_prompt.format(\n",
    "            vendor_name=vendor[\"Vendor Name\"], status=\"Shortlisted\", routes=vendor[\"Route ID\"]\n",
    "        )).content\n",
    "        yag.send(to=vendor[\"Vendor Email\"], subject=\"You're Shortlisted\", contents=content)\n",
    "        print(f\"✅ Email sent to shortlisted vendor: {vendor['Vendor Name']}\")\n",
    "\n",
    "    for _, vendor in non_selected_vendors_df.iterrows():\n",
    "        content = llm.invoke(email_prompt.format(\n",
    "            vendor_name=vendor[\"Vendor Name\"], status=\"Not Selected\", routes=\"None\"\n",
    "        )).content\n",
    "        yag.send(to=vendor[\"Vendor Email\"], subject=\"Thank You\", contents=content)\n",
    "        print(f\"✅ Email sent to non-selected vendor: {vendor['Vendor Name']}\")\n",
    "\n",
    "    return \"📨 Emails sent to shortlisted and non-selected vendors successfully.\"\n",
    "\n",
    "# Wrap the function as a LangChain Tool\n",
    "send_vendor_emails_tool = Tool(\n",
    "    name=\"send_vendor_emails\",\n",
    "    func=send_vendor_emails_func,\n",
    "    description=\"Sends personalized emails to shortlisted and non-selected vendors based on evaluation results.\",\n",
    "    return_direct=True\n",
    ")\n"
   ]
  },
  {
   "cell_type": "code",
   "execution_count": 0,
   "metadata": {
    "application/vnd.databricks.v1+cell": {
     "cellMetadata": {
      "byteLimit": 2048000,
      "rowLimit": 10000
     },
     "inputWidgets": {},
     "nuid": "086e3e8d-215e-4b2f-ade7-048db6de5d59",
     "showTitle": false,
     "tableResultSettingsMap": {},
     "title": ""
    }
   },
   "outputs": [],
   "source": [
    "tools = [send_vendor_emails_tool]\n",
    "\n",
    "agent = initialize_agent(\n",
    "    tools=tools,\n",
    "    llm=ChatDatabricks(endpoint=\"databricks-llama-4-maverick\"),\n",
    "    agent=AgentType.ZERO_SHOT_REACT_DESCRIPTION,\n",
    "    verbose=True\n",
    ")\n",
    "\n",
    "agent.run(\"Sends personalized emails to shortlisted and non-selected vendors based on evaluation results\")"
   ]
  }
 ],
 "metadata": {
  "application/vnd.databricks.v1+notebook": {
   "computePreferences": null,
   "dashboards": [],
   "environmentMetadata": {
    "base_environment": "",
    "environment_version": "2"
   },
   "inputWidgetPreferences": null,
   "language": "python",
   "notebookMetadata": {
    "pythonIndentUnit": 4
   },
   "notebookName": "6. Selected or Not Mail",
   "widgets": {}
  },
  "language_info": {
   "name": "python"
  }
 },
 "nbformat": 4,
 "nbformat_minor": 0
}
