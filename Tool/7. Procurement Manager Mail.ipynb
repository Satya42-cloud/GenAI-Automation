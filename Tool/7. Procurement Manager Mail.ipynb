{
 "cells": [
  {
   "cell_type": "code",
   "execution_count": 0,
   "metadata": {
    "application/vnd.databricks.v1+cell": {
     "cellMetadata": {
      "byteLimit": 2048000,
      "rowLimit": 10000
     },
     "inputWidgets": {},
     "nuid": "1eec6a22-2512-4527-8cb1-b30117d88a5c",
     "showTitle": false,
     "tableResultSettingsMap": {},
     "title": ""
    }
   },
   "outputs": [],
   "source": [
    "%run ./0.Config"
   ]
  },
  {
   "cell_type": "code",
   "execution_count": 0,
   "metadata": {
    "application/vnd.databricks.v1+cell": {
     "cellMetadata": {
      "byteLimit": 2048000,
      "rowLimit": 10000
     },
     "inputWidgets": {},
     "nuid": "f59261a1-70ec-41b0-bcda-e078a8a699d1",
     "showTitle": false,
     "tableResultSettingsMap": {},
     "title": ""
    }
   },
   "outputs": [],
   "source": [
    "def Procurement_manager_email(_: str) -> str:\n",
    "    \"\"\"\n",
    "    Sends a professional status update email to the Procurement Manager\n",
    "    informing them about the completion of the vendor shortlisting process\n",
    "    and provides a link to the dashboard.\n",
    "    \"\"\"\n",
    "    RECIPIENT = \"stalupuri@quantum-i.ai\"\n",
    "    DASHBOARD_LINK = \"https://adb-673140172341602.2.azuredatabricks.net/dashboardsv3/01f020cdf48d1c57b8d137cf79234815/published?o=673140172341602\"\n",
    "\n",
    "    llm = ChatDatabricks(endpoint=\"databricks-llama-4-maverick\")\n",
    "\n",
    "    email_prompt = PromptTemplate(\n",
    "        input_variables=[\"recipient_name\", \"dashboard_link\"],\n",
    "        template=\"\"\"\n",
    "You are a professional project coordinator. Write a formal email to the Procurement Manager informing them that the vendor shortlisting process for the Eastern Seaboard region is complete.\n",
    "Exclude subject from body of the email.\n",
    "Mention that:\n",
    "- All vendor submissions have been reviewed.\n",
    "- Top vendors have been shortlisted based on pricing and other criterias.\n",
    "- A detailed dashboard has been created to visualize all relevant data and can be accessed here: {dashboard_link}\n",
    "\n",
    "The email should be addressed to {recipient_name}, written in a professional and courteous tone.\n",
    "\n",
    "Sign off with:\n",
    "Best regards,  \n",
    "Coca Cola Pvt Ltd  \n",
    "procurement@cocacola.com\n",
    "\"\"\")\n",
    "\n",
    "    prompt = email_prompt.format(\n",
    "        recipient_name=\"Mr. Stalupuri\",\n",
    "        dashboard_link=DASHBOARD_LINK)\n",
    "\n",
    "    response = llm.invoke(prompt)\n",
    "    email_body = response.content\n",
    "\n",
    "    # Send the email\n",
    "    yag = yagmail.SMTP(EMAIL_USER, EMAIL_PASSWORD)\n",
    "    yag.send(\n",
    "        to=RECIPIENT,\n",
    "        subject=\"Vendor Shortlisting Completed – Eastern Seaboard\",\n",
    "        contents=email_body)\n",
    "\n",
    "    print(\"✅ Email sent to Procurement Manager.\")\n",
    "    return \"📩 Status update email successfully sent to the Procurement Manager.\"\n",
    "\n",
    "# Wrap it as a LangChain Tool\n",
    "Procurement_manager_email = Tool(\n",
    "    name=\"Procurement_manager_email\",\n",
    "    func=Procurement_manager_email,\n",
    "    description=\"Sends an update email to the Procurement Manager with a link to the vendor shortlisting dashboard.\",\n",
    "    return_direct=True\n",
    ")\n"
   ]
  },
  {
   "cell_type": "code",
   "execution_count": 0,
   "metadata": {
    "application/vnd.databricks.v1+cell": {
     "cellMetadata": {
      "byteLimit": 2048000,
      "rowLimit": 10000
     },
     "inputWidgets": {},
     "nuid": "538803d2-6fef-4ab1-85b9-222b3f2dc846",
     "showTitle": false,
     "tableResultSettingsMap": {},
     "title": ""
    }
   },
   "outputs": [],
   "source": [
    "tools = [Procurement_manager_email]\n",
    "\n",
    "agent = initialize_agent(\n",
    "    tools=tools,\n",
    "    llm=ChatDatabricks(endpoint=\"databricks-llama-4-maverick\"),\n",
    "    agent=AgentType.ZERO_SHOT_REACT_DESCRIPTION,\n",
    "    verbose=True\n",
    ")\n",
    "\n",
    "agent.run(\"Sends an update email to the Procurement Manager with a link to the vendor shortlisting dashboard.\")"
   ]
  }
 ],
 "metadata": {
  "application/vnd.databricks.v1+notebook": {
   "computePreferences": null,
   "dashboards": [],
   "environmentMetadata": {
    "base_environment": "",
    "environment_version": "2"
   },
   "inputWidgetPreferences": null,
   "language": "python",
   "notebookMetadata": {
    "pythonIndentUnit": 4
   },
   "notebookName": "7. Procurement Manager Mail",
   "widgets": {}
  },
  "language_info": {
   "name": "python"
  }
 },
 "nbformat": 4,
 "nbformat_minor": 0
}
