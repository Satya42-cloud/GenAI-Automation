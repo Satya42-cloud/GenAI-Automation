{
 "cells": [
  {
   "cell_type": "code",
   "execution_count": 0,
   "metadata": {
    "application/vnd.databricks.v1+cell": {
     "cellMetadata": {
      "byteLimit": 2048000,
      "rowLimit": 10000
     },
     "collapsed": true,
     "inputWidgets": {},
     "nuid": "aa58a331-eeec-4c15-bc85-9cd3959a03c7",
     "showTitle": false,
     "tableResultSettingsMap": {},
     "title": ""
    }
   },
   "outputs": [],
   "source": [
    "%run ./0.Config"
   ]
  },
  {
   "cell_type": "code",
   "execution_count": 0,
   "metadata": {
    "application/vnd.databricks.v1+cell": {
     "cellMetadata": {
      "byteLimit": 2048000,
      "rowLimit": 10000
     },
     "inputWidgets": {},
     "nuid": "22a8dcaf-a008-4567-a7df-a3fe7a6b770f",
     "showTitle": true,
     "tableResultSettingsMap": {},
     "title": "Tool"
    }
   },
   "outputs": [],
   "source": [
    "def load_data():\n",
    "    vendor_df = spark.read.format(\"csv\").option(\"header\", \"true\").load(VENDOR_DATA_PATH)\n",
    "    return vendor_df.toPandas()\n",
    "\n",
    "def setup_llm():\n",
    "    return ChatDatabricks(endpoint=LLM_ENDPOINT_NAME, model_kwargs={\"temperature\": 0.2})\n",
    "\n",
    "def save_zone_csv(zone):\n",
    "    path = f\"/dbfs/FileStore/zone_vendor_files/{zone}.csv\"\n",
    "    return path   \n",
    "\n",
    "def summarize(path):\n",
    "    df = pd.read_csv(path)\n",
    "    routes = sorted(df[\"Route_ID\"].unique())\n",
    "    truck_types = sorted(df[\"Truck_Type\"].unique())\n",
    "    total_count = int(df[\"Required_Trucks\"].sum())\n",
    "    return routes, truck_types, total_count\n",
    "\n",
    "def generate_email(llm, contact_name, zone, routes, truck_types, total_count, vendor_name):\n",
    "    template = PromptTemplate(\n",
    "        input_variables=[\n",
    "            \"contact_name\", \"zone\", \"routes\", \"truck_types\", \"total_count\",\n",
    "            \"vendor_name\", \"application_link\", \"sender_name\", \"sender_contact\"\n",
    "        ],\n",
    "        template=(\n",
    "            \"You are a logistics procurement officer. Draft a formal RFQ email to {contact_name} from {vendor_name} \"\n",
    "            \"regarding truck procurement in the {zone} region.\\n\\n\"\n",
    "            \"Include:\\n\"\n",
    "            \"- Routes: {routes}\\n\"\n",
    "            \"- Truck Types: {truck_types}\\n\"\n",
    "            \"- Total truck requirement: {total_count}\\n\"\n",
    "            \"- Mention that a CSV file with detailed requirements is attached.\\n\"\n",
    "            \"- Mention vendors should fill out the application form at: {application_link}\\n\"\n",
    "            \"- Deadline to apply is within 7 days of receiving the email.\\n\"\n",
    "            \"- Sign off with {sender_name} and {sender_contact}.\\n\\n\"\n",
    "            \"**Do not include introductory lines like 'Here is the email'. Just output the message as specified.**\\n\"\n",
    "            \"Output format:\\n\"\n",
    "            \"Subject: <subject line>\\n\\n\"\n",
    "            \"Dear {contact_name},\\n\\n<Body Text>\\nBest regards,\\nCoca Cola Pvt Ltd\\nprocurement@cocacola.com\"\n",
    "        )\n",
    "    )\n",
    "    chain = template | llm\n",
    "    inputs = {\n",
    "        \"contact_name\": contact_name,\n",
    "        \"zone\": zone,\n",
    "        \"routes\": \", \".join(routes),\n",
    "        \"truck_types\": \", \".join(truck_types),\n",
    "        \"total_count\": total_count,\n",
    "        \"vendor_name\": vendor_name,\n",
    "        \"application_link\": APPLICATION_LINK,\n",
    "        \"sender_name\": SENDER_NAME,\n",
    "        \"sender_contact\": SENDER_CONTACT\n",
    "    }\n",
    "    output = chain.invoke(inputs)\n",
    "    if hasattr(output, \"content\"):  \n",
    "        output = output.content\n",
    "        \n",
    "    subject = re.search(r\"Subject:\\s*(.*)\", output)\n",
    "    subject_line = subject.group(1).strip() if subject else \"Request for Quotation\"\n",
    "    body = re.sub(r\"Subject:.*\\n?\", \"\", output).strip()\n",
    "    return subject_line, body\n",
    "\n",
    "def send_email(recipient, subject, body, attachment1):\n",
    "    try:\n",
    "        yag = yagmail.SMTP(user=EMAIL_USER, password=EMAIL_PASSWORD)\n",
    "        yag.send(to=recipient, subject=subject, contents=body, attachments=[attachment1])\n",
    "        return f\"Email sent to {recipient}\"\n",
    "    except Exception as e:\n",
    "        return f\"Failed to send email to {recipient}: {str(e)}\"\n",
    "\n",
    "def rfq_email_tool_function(_: str) -> str:\n",
    "    logs = []\n",
    "    try:\n",
    "        vendor_df = load_data()\n",
    "        llm = setup_llm()\n",
    "\n",
    "        for _, vendor in vendor_df.iterrows():\n",
    "            try:\n",
    "                zone = vendor[\"Region\"]\n",
    "                contact_name = vendor[\"Vendor Name\"]\n",
    "                email = vendor[\"Vendor Email\"]\n",
    "                vendor_name = vendor[\"Vendor Name\"]\n",
    "\n",
    "                zone_csv = save_zone_csv(zone)\n",
    "                routes, truck_types, total = summarize(zone_csv)\n",
    "                subject, body = generate_email(\n",
    "                    llm, contact_name, zone, routes, truck_types, total, vendor_name\n",
    "                )\n",
    "                result = send_email(email, subject, body, zone_csv)\n",
    "                logs.append(result)\n",
    "\n",
    "            except Exception as vendor_err:\n",
    "                logs.append(f\"Error processing vendor {vendor.get('Vendor ID', 'N/A')}: {str(vendor_err)}\")\n",
    "\n",
    "    except Exception as e:\n",
    "        logs.append(f\"Pipeline failed: {str(e)}\")\n",
    "\n",
    "    return \"\\n\".join(logs)\n",
    "\n",
    "# Register as a LangChain Tool\n",
    "rfq_email_tool = Tool(\n",
    "    name=\"rfq_email_tool\",\n",
    "    func=rfq_email_tool_function,\n",
    "    description=\"Sends RFQ emails to vendors using forecast and vendor CSV data, attaches zone-wise truck requirement CSVs, and uses LLM to generate email body.\"\n",
    ")"
   ]
  },
  {
   "cell_type": "code",
   "execution_count": 0,
   "metadata": {
    "application/vnd.databricks.v1+cell": {
     "cellMetadata": {
      "byteLimit": 2048000,
      "rowLimit": 10000
     },
     "inputWidgets": {},
     "nuid": "92d4f1b3-4440-4245-92d9-8eee42232fe4",
     "showTitle": true,
     "tableResultSettingsMap": {},
     "title": "Invoke"
    }
   },
   "outputs": [],
   "source": [
    "tools = [rfq_email_tool]\n",
    "\n",
    "agent = initialize_agent(\n",
    "    tools=tools,\n",
    "    llm=ChatDatabricks(endpoint=\"databricks-llama-4-maverick\"),\n",
    "    agent=AgentType.ZERO_SHOT_REACT_DESCRIPTION,\n",
    "    verbose=True\n",
    ")\n",
    "\n",
    "agent.run(\"Sends RFQ emails to vendors.\")"
   ]
  }
 ],
 "metadata": {
  "application/vnd.databricks.v1+notebook": {
   "computePreferences": null,
   "dashboards": [],
   "environmentMetadata": {
    "base_environment": "",
    "environment_version": "2"
   },
   "inputWidgetPreferences": null,
   "language": "python",
   "notebookMetadata": {
    "pythonIndentUnit": 4
   },
   "notebookName": "RFQ Submission Mail",
   "widgets": {}
  },
  "language_info": {
   "name": "python"
  }
 },
 "nbformat": 4,
 "nbformat_minor": 0
}
