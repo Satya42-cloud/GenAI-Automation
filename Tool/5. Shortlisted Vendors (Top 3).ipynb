{
 "cells": [
  {
   "cell_type": "code",
   "execution_count": 0,
   "metadata": {
    "application/vnd.databricks.v1+cell": {
     "cellMetadata": {
      "byteLimit": 2048000,
      "rowLimit": 10000
     },
     "inputWidgets": {},
     "nuid": "187d8897-446b-4288-9e5e-0d1f48db23b2",
     "showTitle": false,
     "tableResultSettingsMap": {},
     "title": ""
    }
   },
   "outputs": [],
   "source": [
    "%run ./0.Config"
   ]
  },
  {
   "cell_type": "code",
   "execution_count": 0,
   "metadata": {
    "application/vnd.databricks.v1+cell": {
     "cellMetadata": {
      "byteLimit": 2048000,
      "rowLimit": 10000
     },
     "inputWidgets": {},
     "nuid": "3478b4a1-92f9-4961-bcd8-646abd002db7",
     "showTitle": false,
     "tableResultSettingsMap": {},
     "title": ""
    }
   },
   "outputs": [],
   "source": [
    "def shortlist_top_vendors(_: str) -> str:\n",
    "    \"\"\"\n",
    "    Ranks vendors per route based on cost, delivery, service, safety, and route count.\n",
    "    Accepts a dummy string input for compatibility with ZeroShotAgent.\n",
    "    Writes top 3 vendors per route to a Unity Catalog Delta table.\n",
    "    \"\"\"\n",
    "\n",
    "    top_vendors = spark.read.option(\"header\", True).option(\"inferSchema\", \"true\").csv(\n",
    "        \"abfss://vendor-rfq@genaiautomationsa.dfs.core.windows.net/processed/top_vendors.csv\")\n",
    "    vendor_data = spark.read.option(\"header\", True).option(\"inferSchema\", \"true\").csv(\n",
    "        \"abfss://vendor-rfq@genaiautomationsa.dfs.core.windows.net/vendor_data/vendor_data.csv\")\n",
    "\n",
    "    top_vendors = top_vendors.withColumn(\"Total Quoted Cost\", col(\"Total Quoted Cost\").cast(\"double\"))\n",
    "    vendor_data = vendor_data.withColumn(\"On-time Delivery\", col(\"On-time Delivery\").cast(\"double\")) \\\n",
    "                             .withColumn(\"Service Rating\", col(\"Service Rating\").cast(\"double\")) \\\n",
    "                             .withColumn(\"Safety Compliance\", col(\"Safety Compliance\").cast(\"double\"))\n",
    "\n",
    "    joined_df = top_vendors.join(vendor_data, on=\"Vendor Email\", how=\"inner\")\n",
    "    route_counts = joined_df.groupBy(\"Vendor Email\").agg(countDistinct(\"Route ID\").alias(\"route_count\"))\n",
    "    joined_df = joined_df.join(route_counts, on=\"Vendor Email\", how=\"left\")\n",
    "\n",
    "    def normalize(df, colname, new_colname, inverse=False):\n",
    "        min_val = df.agg({colname: \"min\"}).collect()[0][0]\n",
    "        max_val = df.agg({colname: \"max\"}).collect()[0][0]\n",
    "        if inverse:\n",
    "            return df.withColumn(new_colname, (F.lit(max_val) - col(colname)) / (F.lit(max_val) - F.lit(min_val)))\n",
    "        else:\n",
    "            return df.withColumn(new_colname, (col(colname) - F.lit(min_val)) / (F.lit(max_val) - F.lit(min_val)))\n",
    "\n",
    "    joined_df = normalize(joined_df, \"Total Quoted Cost\", \"norm_cost\", inverse=True)\n",
    "    joined_df = normalize(joined_df, \"On-time Delivery\", \"norm_ontime\")\n",
    "    joined_df = normalize(joined_df, \"Service Rating\", \"norm_rating\")\n",
    "    joined_df = normalize(joined_df, \"Safety Compliance\", \"norm_safety\")\n",
    "    joined_df = normalize(joined_df, \"route_count\", \"norm_routes\")\n",
    "\n",
    "    joined_df = joined_df.withColumn(\n",
    "        \"Final Score\",\n",
    "        F.round(\n",
    "            100 * (\n",
    "                0.40 * col(\"norm_cost\") +\n",
    "                0.30 * col(\"norm_ontime\") +\n",
    "                0.10 * col(\"norm_rating\") +\n",
    "                0.10 * col(\"norm_safety\") +\n",
    "                0.10 * col(\"norm_routes\")\n",
    "            ), 2\n",
    "        )\n",
    "    )\n",
    "\n",
    "    window_spec = Window.partitionBy(\"Route ID\").orderBy(col(\"Final Score\").desc())\n",
    "    ranked_df = joined_df.withColumn(\"Rank\", rank().over(window_spec))\n",
    "    final_df = ranked_df.filter(col(\"Rank\") <= 3)\n",
    "\n",
    "    final_df = final_df.select(\n",
    "        \"Vendor ID\",\n",
    "        top_vendors[\"Vendor Name\"],\n",
    "        \"Vendor Email\",\n",
    "        \"Route ID\",\n",
    "        \"Total Quoted Cost\",\n",
    "        \"Final Score\",\n",
    "        \"Rank\")\n",
    "    \n",
    "#Saving to ADLS as csv file\n",
    "    final_df.write \\\n",
    "    .mode(\"overwrite\") \\\n",
    "    .option(\"header\", \"true\") \\\n",
    "    .csv(\"abfss://vendor-rfq@genaiautomationsa.dfs.core.windows.net/processed/Shortlisted_vendors\")\n",
    "\n",
    "#Saving to Unity catalog table\n",
    "    final_df_cleaned = final_df.toDF(*[col.replace(\" \", \"_\") for col in final_df.columns])\n",
    "    final_df_cleaned.write.mode(\"overwrite\").option(\"mergeSchema\", \"true\").saveAsTable(\n",
    "        \"genai_catalog.genai_schema.shortlisted_vendors\")\n",
    "\n",
    "    return \"✅ Top 3 vendors per route have been shortlisted and saved to Unity Catalog genai_catalog.genai_schema.shortlisted_vendors\"\n",
    "\n",
    "shortlist_top_vendors_tool = Tool(\n",
    "    name=\"shortlist_top_vendors\",\n",
    "    func=shortlist_top_vendors,\n",
    "    description=\"Ranks and selects top 3 vendors per route based on multiple KPIs. Use when asked to calculate top vendors.\",\n",
    "    return_direct=True  # Optional: skips LLM response wrapping\n",
    ")\n"
   ]
  },
  {
   "cell_type": "code",
   "execution_count": 0,
   "metadata": {
    "application/vnd.databricks.v1+cell": {
     "cellMetadata": {},
     "inputWidgets": {},
     "nuid": "547e5730-069d-4f6d-b149-74fe48034eb1",
     "showTitle": false,
     "tableResultSettingsMap": {},
     "title": ""
    }
   },
   "outputs": [],
   "source": [
    "tools = [shortlist_top_vendors_tool]\n",
    "\n",
    "agent = initialize_agent(\n",
    "    tools=tools,\n",
    "    llm=ChatDatabricks(endpoint=\"databricks-llama-4-maverick\"),\n",
    "    agent=AgentType.ZERO_SHOT_REACT_DESCRIPTION,\n",
    "    verbose=True\n",
    ")\n",
    "\n",
    "agent.run(\"Calculate top 3 vendors per route\")"
   ]
  }
 ],
 "metadata": {
  "application/vnd.databricks.v1+notebook": {
   "computePreferences": null,
   "dashboards": [],
   "environmentMetadata": {
    "base_environment": "",
    "environment_version": "2"
   },
   "inputWidgetPreferences": null,
   "language": "python",
   "notebookMetadata": {
    "pythonIndentUnit": 4
   },
   "notebookName": "5. Shortlisted Vendors (Top 3)",
   "widgets": {}
  },
  "language_info": {
   "name": "python"
  }
 },
 "nbformat": 4,
 "nbformat_minor": 0
}
