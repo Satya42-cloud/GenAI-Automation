{
 "cells": [
  {
   "cell_type": "code",
   "execution_count": 0,
   "metadata": {
    "application/vnd.databricks.v1+cell": {
     "cellMetadata": {
      "byteLimit": 2048000,
      "rowLimit": 10000
     },
     "collapsed": true,
     "inputWidgets": {},
     "nuid": "2df10bd2-b79d-4200-ba22-3d5dadcdc028",
     "showTitle": false,
     "tableResultSettingsMap": {},
     "title": ""
    }
   },
   "outputs": [],
   "source": [
    "%run ./0.Config"
   ]
  },
  {
   "cell_type": "code",
   "execution_count": 0,
   "metadata": {
    "application/vnd.databricks.v1+cell": {
     "cellMetadata": {
      "byteLimit": 2048000,
      "rowLimit": 10000
     },
     "inputWidgets": {},
     "nuid": "563c10cc-f31c-406e-a2fc-d6865ee56367",
     "showTitle": false,
     "tableResultSettingsMap": {},
     "title": ""
    }
   },
   "outputs": [],
   "source": [
    "dbutils.fs.rm(\"/dbfs/FileStore/tables/processed_vendors.csv\",True)"
   ]
  },
  {
   "cell_type": "code",
   "execution_count": 0,
   "metadata": {
    "application/vnd.databricks.v1+cell": {
     "cellMetadata": {
      "byteLimit": 2048000,
      "rowLimit": 10000
     },
     "inputWidgets": {},
     "nuid": "123210f2-2147-46a4-82eb-549f05a45ef4",
     "showTitle": true,
     "tableResultSettingsMap": {},
     "title": "Thank you mail"
    }
   },
   "outputs": [],
   "source": [
    "@tool\n",
    "def respond_to_vendor_rfq_submissions(task_description: str) -> str:\n",
    "    \"\"\"\n",
    "    Processes RFQ submissions from vendors, generates email responses using LLM, \n",
    "    and sends them. Keeps track of processed submissions.\n",
    "    \"\"\"\n",
    "\n",
    "    model = ChatDatabricks(endpoint=\"databricks-llama-4-maverick\")\n",
    "    email_prompt = PromptTemplate(\n",
    "        input_variables=[\"vendor_name\", \"summary\", \"issue\", \"status\"],\n",
    "        template=\"\"\"\n",
    "You are a professional Procurement Manager replying to a vendor who submitted an RFQ response.\n",
    "start with salutation\n",
    "Vendor Name: {vendor_name}\n",
    "Submission Summary (in ₹):\n",
    "{summary}\n",
    "\n",
    "Carefully check if any of the submitted rows contain issues:\n",
    "    - Truck Count is 0 or negative\n",
    "    - Price per Truck is ₹0.00 or negative\n",
    "    - Total Cost is ₹0.00 or negative\n",
    "\n",
    "If the submission is Valid:\n",
    "- Thank the vendor.\n",
    "- List out route-wise total number of trucks and total cost in a new indented line.\n",
    "- Reassure them that their response is recorded.\n",
    "\n",
    "If the submission status is Invalid:\n",
    "- Mention where the problem is politely.\n",
    "- Ask them to resubmit the form via: https://genai-automation-jkc3mhhnxkvlkh7ftab6lf.streamlit.app/\n",
    "\n",
    "Vendor Name: {vendor_name}\n",
    "Submission Summary: {summary}\n",
    "\n",
    "Do not include subject in the body. Compose a short and professional email.\n",
    "\n",
    "Keep the tone professional and concise.\n",
    "Sign off with:\n",
    "\n",
    "Best regards,  \n",
    "Coca Cola Pvt Ltd  \n",
    "procurement@cocacola.com\n",
    "\"\"\"\n",
    "    )\n",
    "    chain = email_prompt | model\n",
    "\n",
    "    # ------------------ READ DATA FROM ADLS ------------------\n",
    "    file_path = \"abfss://vendor-rfq@genaiautomationsa.dfs.core.windows.net/vendor_response/Vendor_Response.csv\"\n",
    "    df_spark = spark.read.option(\"header\", \"true\").csv(file_path)\n",
    "    df = df_spark.toPandas()\n",
    "    df[\"Submitted At\"] = pd.to_datetime(df[\"Submitted At\"])\n",
    "\n",
    "    # ------------------ LOAD TRACKER ------------------\n",
    "    tracker_path = \"/dbfs/FileStore/tables/processed_vendors.csv\"\n",
    "\n",
    "    tracker_df = pd.DataFrame(columns=[\"Vendor Name\", \"Vendor Email\", \"Submitted At\"])\n",
    "    try:\n",
    "        tracker_df = pd.read_csv(tracker_path)\n",
    "        tracker_df[\"Submitted At\"] = pd.to_datetime(tracker_df[\"Submitted At\"])\n",
    "    except FileNotFoundError:\n",
    "        tracker_df = pd.DataFrame(columns=[\"Vendor Name\", \"Vendor Email\", \"Submitted At\"])\n",
    "\n",
    "    # ------------------ VALIDATION FUNCTION ------------------\n",
    "    def evaluate_submission(row):\n",
    "        try:\n",
    "            count = int(str(row[\"Count\"]).strip())\n",
    "            price = float(str(row[\"Price per Truck\"]).strip())\n",
    "            total = float(str(row[\"Total Cost\"]).strip())\n",
    "\n",
    "            if count <= 0:\n",
    "                return \"Invalid\", f\"Truck Count is 0 or negative in Route {row['Route ID']}\"\n",
    "            if price <= 0:\n",
    "                return \"Invalid\", f\"Price per Truck is 0 or negative in Route {row['Route ID']}\"\n",
    "            if total <= 0:\n",
    "                return \"Invalid\", f\"Total Cost is 0 or negative in Route {row['Route ID']}\"\n",
    "\n",
    "            return \"Valid\", \"\"\n",
    "        except Exception as e:\n",
    "            return \"Invalid\", f\"Error parsing values for Route {row['Route ID']}: {e}\"\n",
    "\n",
    "    # ------------------ PROCESS NEW SUBMISSIONS ------------------\n",
    "    grouped = df.groupby([\"Vendor Name\", \"Vendor Email\"])\n",
    "    new_emails = []\n",
    "\n",
    "    for (vendor_name, vendor_email), group in grouped:\n",
    "        latest_time = group[\"Submitted At\"].max()\n",
    "\n",
    "        existing = tracker_df[tracker_df[\"Vendor Email\"].str.lower() == vendor_email.lower()]\n",
    "        if not existing.empty and latest_time <= existing[\"Submitted At\"].values[0]:\n",
    "            continue\n",
    "\n",
    "        status, issue = \"Valid\", \"\"\n",
    "        for _, row in group.iterrows():\n",
    "            row_status, row_issue = evaluate_submission(row)\n",
    "            if row_status == \"Invalid\":\n",
    "                status, issue = row_status, row_issue\n",
    "                break\n",
    "\n",
    "        summary = group[[\"Route ID\", \"Truck Type\", \"Count\", \"Price per Truck\", \"Total Cost\"]].copy()\n",
    "        summary[\"Price per Truck\"] = summary[\"Price per Truck\"].astype(float).apply(lambda x: f\"₹{x:,.2f}\")\n",
    "        summary[\"Total Cost\"] = summary[\"Total Cost\"].astype(float).apply(lambda x: f\"₹{x:,.2f}\")\n",
    "        summary_text = summary.to_string(index=False)\n",
    "\n",
    "        if status == \"Valid\":\n",
    "            group[\"Count\"] = group[\"Count\"].astype(int)\n",
    "            group[\"Total Cost\"] = group[\"Total Cost\"].astype(float)\n",
    "\n",
    "            summary_grouped = group.groupby(\"Route ID\").agg({\n",
    "                \"Count\": \"sum\",\n",
    "                \"Total Cost\": \"sum\"\n",
    "            }).reset_index()\n",
    "\n",
    "            route_summary_lines = [\n",
    "                f\"- Route {row['Route ID']}: {row['Count']} trucks, Total Cost: ₹{row['Total Cost']:,.2f}\"\n",
    "                for _, row in summary_grouped.iterrows()]\n",
    "            summary_text += \"\\n\\nRoute-wise Summary:\\n\" + \"\\n\".join(route_summary_lines)\n",
    "\n",
    "        email_content = chain.invoke({\n",
    "            \"vendor_name\": vendor_name,\n",
    "            \"summary\": summary_text,\n",
    "            \"issue\": issue,\n",
    "            \"status\": status\n",
    "        })\n",
    "        if hasattr(email_content, \"content\"):  \n",
    "            output = email_content.content\n",
    "        print(f\"\\n----- EMAIL TO SEND -----\\nTo: {vendor_email}\\n\\n{output}\\n\")\n",
    "\n",
    "        new_emails.append({\n",
    "            \"Vendor Name\": vendor_name.title(),\n",
    "            \"Vendor Email\": vendor_email.lower(),\n",
    "            \"Submitted At\": latest_time,\n",
    "            \"Email Content\": output\n",
    "        })\n",
    "\n",
    "    # ------------------ SEND EMAILS ------------------\n",
    "    yag = yagmail.SMTP(EMAIL_USER, EMAIL_PASSWORD)\n",
    "    for entry in new_emails:\n",
    "        # UNCOMMENT TO SEND EMAILS\n",
    "        yag.send(\n",
    "            to=entry[\"Vendor Email\"],\n",
    "            subject=\"Response to Your RFQ Submission\",\n",
    "            contents=entry[\"Email Content\"]\n",
    "        )\n",
    "        print(f\"✅ Ready to send to {entry['Vendor Email']}\")\n",
    "\n",
    "    # ------------------ UPDATE TRACKER FILE ------------------\n",
    "    if new_emails:\n",
    "        new_df = pd.DataFrame(new_emails)[[\"Vendor Name\", \"Vendor Email\", \"Submitted At\"]]\n",
    "        updated_tracker = pd.concat([tracker_df, new_df])\n",
    "        updated_tracker[\"Vendor Name\"] = updated_tracker[\"Vendor Name\"].str.title()\n",
    "        updated_tracker[\"Vendor Email\"] = updated_tracker[\"Vendor Email\"].str.lower()\n",
    "        updated_tracker.sort_values(\"Submitted At\", ascending=False, inplace=True)\n",
    "        updated_tracker.drop_duplicates(subset=\"Vendor Email\", keep=\"first\", inplace=True)\n",
    "        updated_tracker.to_csv(tracker_path, index=False)\n",
    "        print(f\"📝 Tracker updated with {len(new_df)} new entries.\")\n",
    "    else:\n",
    "        print(\"📭 No new submissions to process.\")\n",
    "\n",
    "    return f\"✅ Processed {len(new_emails)} new submission(s).\""
   ]
  },
  {
   "cell_type": "code",
   "execution_count": 0,
   "metadata": {
    "application/vnd.databricks.v1+cell": {
     "cellMetadata": {
      "byteLimit": 2048000,
      "rowLimit": 10000
     },
     "inputWidgets": {},
     "nuid": "72b4d934-8e81-47cd-aa1a-4bd936978052",
     "showTitle": true,
     "tableResultSettingsMap": {},
     "title": "Invoke Thank you tool"
    }
   },
   "outputs": [],
   "source": [
    "tools = [respond_to_vendor_rfq_submissions]\n",
    "\n",
    "agent = initialize_agent(\n",
    "    tools=tools,\n",
    "    llm=ChatDatabricks(endpoint=\"databricks-llama-4-maverick\"),\n",
    "    agent=AgentType.ZERO_SHOT_REACT_DESCRIPTION,\n",
    "    verbose=True\n",
    ")\n",
    "\n",
    "agent.run(\"Send follow-up thank you emails after RFQ submission to the vendors.\")"
   ]
  }
 ],
 "metadata": {
  "application/vnd.databricks.v1+notebook": {
   "computePreferences": null,
   "dashboards": [],
   "environmentMetadata": {
    "base_environment": "",
    "environment_version": "2"
   },
   "inputWidgetPreferences": null,
   "language": "python",
   "notebookMetadata": {
    "pythonIndentUnit": 4
   },
   "notebookName": "2. Thank You Mail",
   "widgets": {}
  },
  "language_info": {
   "name": "python"
  }
 },
 "nbformat": 4,
 "nbformat_minor": 0
}
